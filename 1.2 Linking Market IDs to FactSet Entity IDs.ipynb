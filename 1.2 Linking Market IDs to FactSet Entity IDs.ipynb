{
 "cells": [
  {
   "cell_type": "markdown",
   "metadata": {},
   "source": [
    "# Linking Market IDs to FactSet Entity IDs\n",
    "\n",
    "The FactSet Supply Chain Relationships DataFeed provides data for FactSet company identifiers, factset_entity_id.  This notebook will cover how to link a market identifier for a security to the required FactSet ID within Supply Chain Relationships. "
   ]
  },
  {
   "cell_type": "markdown",
   "metadata": {},
   "source": [
    "## Notice\n",
    "This example workbook provides queries in SQL formatted for MSSQL and sample python code. It may be necessary to adjust the query language to suit a different SQL DBMS. Sample queries and code should be viewed as possible examples of data calculations and are subject to change. The queries and code provided should be used as a guide to understand how the underlying data items can be used but are not guaranteed to represent the same methodology as the FactSet Workstation or other industry calculations. Queries cannot be guaranteed to be written for performance and/or efficiency.\n",
    "\n",
    "## Import Packages"
   ]
  },
  {
   "cell_type": "code",
   "execution_count": 1,
   "metadata": {},
   "outputs": [],
   "source": [
    "import pandas as pd\n",
    "import numpy as np\n",
    "import matplotlib.pyplot as plt\n",
    "import pyodbc\n",
    "import os\n",
    "\n",
    "\n",
    "import sys\n",
    "sys.path.append('../')\n",
    "import utils.loadsql as loadsql\n",
    "sys.path.append('/')\n",
    "\n",
    "#Define Directory of SQL Queries\n",
    "sql_path = './../SQL Queries/'"
   ]
  },
  {
   "cell_type": "markdown",
   "metadata": {},
   "source": [
    "## Create DSN Connection\n",
    "Enter a DSN associated with the MSSQL database containing FactSet Standard DataFeeds."
   ]
  },
  {
   "cell_type": "code",
   "execution_count": 2,
   "metadata": {},
   "outputs": [],
   "source": [
    "dsn = 'SDF'\n",
    "cxn = pyodbc.connect('DSN={dsn_name}'.format(dsn_name = dsn))"
   ]
  },
  {
   "cell_type": "markdown",
   "metadata": {},
   "source": [
    "## Linking a Market ID to FactSet Symbology\n",
    "\n",
    "### Key Symbology Tables\n",
    "\n",
    "For a full overview of Symbology Tables and linking from various types of market identifiers, please check out the **Symbology 1.2 Linking Market ID to fsym_id** notebook found in the **FactSet/FactSet/Symbology V1/Jupyter Notebooks** directory. The examples here utilize current tickers from the SYM_TICKER_REGION table, please see the Symbology notebooks for a discussion of historical Ticker Symbols.  \n",
    "\n",
    "For this example, we show how to navigate from a Ticker to the FactSet company identifier, factset_entity_id. \n",
    "\n",
    "Key table used:\n",
    "* **SYM_TICKER_REGION**: Maps Ticker-Region to corresponding Regional fsym_id (-R).\n",
    "\n",
    "In order to link FactSet security Ids and FactSet company Ids we will use:\n",
    "\n",
    "* **ENT_SCR_SEC_ENTITY_HIST**: This table maps fsym_ids to factset_entity_ids for the Supply Chain Relationships universe. The mappings are provided at the Security fsym_id (-S). Alongside each symbol pair, a start and end date is provided denoting the window where FactSet considers the association valid. If the relationship is current, an end date of Null will be provided.\n",
    "\n",
    "#### SQL Example\n",
    "\n",
    "The following query retrieves the FactSet company identifier, factset_entity_id, based on the specified ticker.  For this example, we will use S-US.\n",
    "\n",
    "The flow is as follows:\n",
    "\n",
    "* **SYM_TICKER_REGION**: This table is used to translate a regional ticker to the Regional FactSet Permanent ID (fsym_id).\n",
    "\n",
    "* **SYM_COVERAGE**: This table is a master symbology table providing metadata around the given fsym_id, including linking Regional fsym_ids to Security fsym_ids.\n",
    "\n",
    "* **ENT_SCR_SEC_ENTITY_HIST**: This table is used to translate the Security fsym_id to the factset_entity_id, providing the start and end date when this security to entity relationship was valid. \n",
    "\n",
    "**Ticker**  &rarr; **fsym_id** &rarr; **fsym_security_id** &rarr; **factset_entity_id** \n",
    "\n",
    "**S-US** &rarr; **XKDSRD-R** &rarr; **BB0C2F-S** &rarr; **0D7N1X-E**"
   ]
  },
  {
   "cell_type": "code",
   "execution_count": 3,
   "metadata": {},
   "outputs": [
    {
     "name": "stdout",
     "output_type": "stream",
     "text": [
      "DECLARE @id NVARCHAR(50)= 'S-US';\n",
      "SELECT tr.ticker_region, \n",
      "       cov.fsym_id, \n",
      "       cov.proper_name, \n",
      "       e.entity_proper_name, \n",
      "       se.fsym_id, \n",
      "       se.start_date, \n",
      "       se.end_date, \n",
      "       se.factset_entity_id\n",
      "FROM   sym_v1.sym_ticker_region AS tr\n",
      "JOIN sym_v1.sym_coverage AS cov\n",
      "  ON tr.fsym_id = cov.fsym_id\n",
      "JOIN ent_v1.ent_scr_sec_entity_hist AS se\n",
      "  ON se.fsym_id = cov.fsym_security_id\n",
      "JOIN sym_v1.sym_entity AS e\n",
      "  ON e.factset_entity_id = se.factset_entity_id\n",
      "WHERE  tr.ticker_region = @id;\n"
     ]
    },
    {
     "data": {
      "text/html": [
       "<div>\n",
       "<style scoped>\n",
       "    .dataframe tbody tr th:only-of-type {\n",
       "        vertical-align: middle;\n",
       "    }\n",
       "\n",
       "    .dataframe tbody tr th {\n",
       "        vertical-align: top;\n",
       "    }\n",
       "\n",
       "    .dataframe thead th {\n",
       "        text-align: right;\n",
       "    }\n",
       "</style>\n",
       "<table border=\"1\" class=\"dataframe\">\n",
       "  <thead>\n",
       "    <tr style=\"text-align: right;\">\n",
       "      <th></th>\n",
       "      <th>ticker_region</th>\n",
       "      <th>fsym_id</th>\n",
       "      <th>proper_name</th>\n",
       "      <th>entity_proper_name</th>\n",
       "      <th>fsym_id</th>\n",
       "      <th>start_date</th>\n",
       "      <th>end_date</th>\n",
       "      <th>factset_entity_id</th>\n",
       "    </tr>\n",
       "  </thead>\n",
       "  <tbody>\n",
       "    <tr>\n",
       "      <th>0</th>\n",
       "      <td>S-US</td>\n",
       "      <td>XKDSRD-R</td>\n",
       "      <td>Sprint Corp.</td>\n",
       "      <td>Sprint Corp.</td>\n",
       "      <td>BB0C2F-S</td>\n",
       "      <td>2013-07-08</td>\n",
       "      <td>None</td>\n",
       "      <td>0D7N1X-E</td>\n",
       "    </tr>\n",
       "  </tbody>\n",
       "</table>\n",
       "</div>"
      ],
      "text/plain": [
       "  ticker_region   fsym_id   proper_name entity_proper_name   fsym_id  \\\n",
       "0          S-US  XKDSRD-R  Sprint Corp.       Sprint Corp.  BB0C2F-S   \n",
       "\n",
       "   start_date end_date factset_entity_id  \n",
       "0  2013-07-08     None          0D7N1X-E  "
      ]
     },
     "execution_count": 3,
     "metadata": {},
     "output_type": "execute_result"
    }
   ],
   "source": [
    "ticker = 'S-US'\n",
    "\n",
    "#loadsql is a cover function used to retrieve SQL queries from a directory\n",
    "q = loadsql.get_sql_q(os.path.join(sql_path,'1.2.1 Supply Chain - Linking a Market ID to a FactSet ID.sql')\n",
    "                      ,show=0,connection=dsn).format(sym=ticker)\n",
    "\n",
    "print(q)\n",
    "tick_ent = pd.read_sql(q,cxn)\n",
    "tick_ent"
   ]
  },
  {
   "cell_type": "markdown",
   "metadata": {},
   "source": [
    "In this example, the entity ID for Sprint Corp. is returned. The ENT_SCR_SEC_ENTITY_HIST table unlocks the ability to track the entities linked to a given fsym_id through time. If the entity ID tied to a given fsym_id changed over time, multiple entity IDs will be returned unless the start_date and end_dates are specified. "
   ]
  },
  {
   "cell_type": "markdown",
   "metadata": {},
   "source": [
    "## Next Steps\n",
    "\n",
    "* **Please check out these notebooks for additional information on the FactSet Supply Chain Relationships DataFeed:** \n",
    "    * 1.1 Introduction to FactSet Supply Chain Relationships\n",
    "    * 1.3 Mapping Customers and Suppliers to Tradable Securities\n",
    "\n",
    "\n",
    "* **Documentation for the feeds discussed above can be found within the** [Open:FactSet Marketplace](https://open.factset.com/en-us)\n",
    "    * [FactSet Supply Chain Relationships](https://open.factset.com/products/factset-supply-chain-relationships/en-us) \n",
    " \n",
    " \n",
    "* **Please direct any training requests or questions to your CTS Implementation Specialist.**"
   ]
  }
 ],
 "metadata": {
  "kernelspec": {
   "display_name": "Python 3",
   "language": "python",
   "name": "python3"
  },
  "language_info": {
   "codemirror_mode": {
    "name": "ipython",
    "version": 3
   },
   "file_extension": ".py",
   "mimetype": "text/x-python",
   "name": "python",
   "nbconvert_exporter": "python",
   "pygments_lexer": "ipython3",
   "version": "3.7.0"
  }
 },
 "nbformat": 4,
 "nbformat_minor": 2
}
